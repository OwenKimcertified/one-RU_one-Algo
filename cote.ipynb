{
 "cells": [
  {
   "cell_type": "code",
   "execution_count": 25,
   "metadata": {},
   "outputs": [
    {
     "data": {
      "text/plain": [
       "({'muzi': {'ryan': 0, 'frodo': 2, 'neo': 0},\n",
       "  'ryan': {'muzi': 3, 'frodo': 0, 'neo': 0},\n",
       "  'frodo': {'muzi': 1, 'ryan': 1, 'neo': 0},\n",
       "  'neo': {'muzi': 1, 'ryan': 0, 'frodo': 0}},\n",
       " {'muzi': {'ryan': 3, 'frodo': 1, 'neo': 1},\n",
       "  'ryan': {'muzi': 0, 'frodo': 1, 'neo': 0},\n",
       "  'frodo': {'muzi': 2, 'ryan': 0, 'neo': 0},\n",
       "  'neo': {'muzi': 0, 'ryan': 0, 'frodo': 0}})"
      ]
     },
     "execution_count": 25,
     "metadata": {},
     "output_type": "execute_result"
    }
   ],
   "source": [
    "friends = [\"muzi\", \"ryan\", \"frodo\", \"neo\"]\n",
    "gifts = [\"muzi frodo\", \"muzi frodo\", \"ryan muzi\", \"ryan muzi\", \"ryan muzi\", \"frodo muzi\", \"frodo ryan\", \"neo muzi\"]\n",
    "\n",
    "\n",
    "# 선물을 많이 준 사람이 받는다.\n",
    "# 지수는 준 개수 - 받은 개수\n",
    "# 가장 많은 선물을 받는 사람과 몇 개를 받을까?\n",
    "\n",
    "# 1. 어떤 사람이, 어떤 사람에게 몇 개의 선물을 받았나? 를 구현.\n",
    "    \n",
    "\n",
    "def solution(friends, gifts):\n",
    "    gave_p, give_p, p_point = {name: {friend: 0 for friend in friends if friend != name} for name in friends}\n",
    "\n",
    "    \n",
    "    for gift in gifts:\n",
    "        receiver, giver = gift.split(\" \")\n",
    "        gave_p[receiver][giver] += 1\n",
    "        give_p[giver][receiver] += 1    \n",
    "        p_point    \n",
    "\n",
    "        \n",
    "    \n",
    "\n",
    "\n",
    "solution(friends, gifts)"
   ]
  },
  {
   "cell_type": "code",
   "execution_count": 101,
   "metadata": {},
   "outputs": [
    {
     "data": {
      "text/plain": [
       "['#####', '# # #', '### #', '#  ##', '#####']"
      ]
     },
     "execution_count": 101,
     "metadata": {},
     "output_type": "execute_result"
    }
   ],
   "source": [
    "n = 5\n",
    "arr1 = [9, 20, 28, 18, 11]\n",
    "arr2 = [30, 1, 21, 17, 28]\n",
    "\n",
    "def solution(n, arr1, arr2):\n",
    "    n_arr1 = []\n",
    "    n_arr2 = []\n",
    "    \n",
    "    for num in arr1:\n",
    "        if len(bin(num)[2:]) < n:\n",
    "            n_arr1.append(\"0\"*(n - len(bin(num)[2:])) + bin(num)[2:])\n",
    "        else:\n",
    "            n_arr1.append(bin(num)[2:])\n",
    "\n",
    "    for num2 in arr2:\n",
    "        if len(bin(num2)[2:]) < n:\n",
    "            n_arr2.append(\"0\"*(n-len(bin(num2)[2:])) + bin(num2)[2:])\n",
    "        else:\n",
    "            n_arr2.append(bin(num2)[2:])\n",
    "    \n",
    "    c01_1 = []\n",
    "    c01_2 = []\n",
    "\n",
    "    for i in range(n):\n",
    "        c01_1.append(n_arr1[i].replace(\"0\", \" \").replace(\"1\", \"#\"))\n",
    "    for i in range(n):\n",
    "        c01_2.append(n_arr2[i].replace(\"0\", \" \").replace(\"1\", \"#\"))\n",
    "\n",
    "    res = [\"\"] * n\n",
    "    for i in range(n):\n",
    "        for j in range(n):\n",
    "            if c01_1[i][j] == \"#\" or c01_2[i][j] == \"#\":\n",
    "                res[i] += \"#\"\n",
    "            else:\n",
    "                res[i] += \" \"    \n",
    "\n",
    "    return res\n",
    "solution(n, arr1, arr2)"
   ]
  },
  {
   "cell_type": "code",
   "execution_count": 104,
   "metadata": {},
   "outputs": [
    {
     "data": {
      "text/plain": [
       "['#####', '# # #', '### #', '#  ##', '#####']"
      ]
     },
     "execution_count": 104,
     "metadata": {},
     "output_type": "execute_result"
    }
   ],
   "source": [
    "def solution(n, arr1, arr2):\n",
    "    answer = []\n",
    "    for i,j in zip(arr1,arr2):\n",
    "        a12 = str(bin(i|j)[2:])\n",
    "        a12=a12.rjust(n,'0')\n",
    "        a12=a12.replace('1','#')\n",
    "        a12=a12.replace('0',' ')\n",
    "        answer.append(a12)\n",
    "    return answer\n",
    "\n",
    "solution(n, arr1, arr2)"
   ]
  },
  {
   "cell_type": "code",
   "execution_count": 105,
   "metadata": {},
   "outputs": [
    {
     "data": {
      "text/plain": [
       "['#####', '# # #', '### #', '#  ##', '#####']"
      ]
     },
     "execution_count": 105,
     "metadata": {},
     "output_type": "execute_result"
    }
   ],
   "source": [
    "n = 5\n",
    "arr1 = [9, 20, 28, 18, 11]\n",
    "arr2 = [30, 1, 21, 17, 28]\n",
    "\n",
    "res = []\n",
    "\n",
    "for i, j in zip(arr1,arr2):\n",
    "    a12 = str(bin(i|j)[2:])\n",
    "    a12=a12.replace('1','#')\n",
    "    a12=a12.replace('0',' ')\n",
    "    res.append(a12)\n",
    "res"
   ]
  },
  {
   "cell_type": "code",
   "execution_count": 113,
   "metadata": {},
   "outputs": [
    {
     "data": {
      "text/plain": [
       "0"
      ]
     },
     "execution_count": 113,
     "metadata": {},
     "output_type": "execute_result"
    }
   ],
   "source": [
    "absolutes, signs = \t[1, 2, 3],[\"false\", \"false\", \"true\"]\n",
    "def solution(absolutes, signs):\n",
    "    cnt = 0\n",
    "    for k in range(len(signs)):\n",
    "        if signs[k] == True:\n",
    "            cnt += absolutes[k]\n",
    "        else:\n",
    "            cnt -= absolutes[k]\n",
    "    \n",
    "    return cnt\n",
    "solution(absolutes, signs)\n"
   ]
  },
  {
   "cell_type": "code",
   "execution_count": 154,
   "metadata": {},
   "outputs": [
    {
     "data": {
      "text/plain": [
       "[1, 2, 3]"
      ]
     },
     "execution_count": 154,
     "metadata": {},
     "output_type": "execute_result"
    }
   ],
   "source": [
    "def solution(answers):\n",
    "    \n",
    "    a = [1,2,3,4,5]\n",
    "    b = [2,1,2,3,2,4,2,5]\n",
    "    c = [3,3,1,1,2,2,4,4,5,5]\n",
    "    \n",
    "    a_cnt = 0\n",
    "    b_cnt = 0\n",
    "    c_cnt = 0\n",
    "    \n",
    "    res = []\n",
    "    \n",
    "    if len(answers) % len(a) == 0:\n",
    "        new_a = a * int(len(answers)/len(a))\n",
    "        for i, j in zip(new_a, answers):\n",
    "            if i == j:\n",
    "                a_cnt += 1\n",
    "    elif len(answers) % len(a) != 0:\n",
    "        new_a = a * int(len(answers)/len(a))\n",
    "        for i in range(len(answers) % len(a)):\n",
    "            new_a.append(a[i])\n",
    "        for i, j in zip(new_a, answers):\n",
    "            if i == j:\n",
    "                a_cnt += 1            \n",
    "        \n",
    "    if len(answers) % len(b) == 0:\n",
    "        new_b = b * int(len(answers)/len(b))\n",
    "        for i, j in zip(new_b, answers):\n",
    "            if i == j:\n",
    "                b_cnt += 1\n",
    "    elif len(answers) % len(b) != 0:\n",
    "        new_b = b * int(len(answers)/len(b))\n",
    "        for i in range(len(answers) % len(b)):\n",
    "            new_b.append(b[i])\n",
    "        for i, j in zip(new_b, answers):\n",
    "            if i == j:\n",
    "                b_cnt += 1      \n",
    "                \n",
    "    if len(answers) % len(c) == 0:\n",
    "        new_c = c * int(len(answers)/len(c))\n",
    "        for i, j in zip(new_c, answers):\n",
    "            if i == j:\n",
    "                c_cnt += 1\n",
    "    elif len(answers) % len(c) != 0:\n",
    "        new_c = c * int(len(answers)/len(c))\n",
    "        for i in range(len(answers) % len(c)):\n",
    "            new_c.append(c[i])\n",
    "        for i, j in zip(new_c, answers):\n",
    "            if i == j:\n",
    "                c_cnt += 1\n",
    "    \n",
    "    if max(a_cnt, b_cnt, c_cnt) == a_cnt:\n",
    "        res.append(1)\n",
    "    if max(a_cnt, b_cnt, c_cnt) == b_cnt:\n",
    "        res.append(2)\n",
    "    if max(a_cnt, b_cnt, c_cnt) == c_cnt:\n",
    "        res.append(3)   \n",
    "    \n",
    "    return res\n",
    "\n",
    "answers = [1, 3, 2, 4, 2]\n",
    "solution(answers)"
   ]
  },
  {
   "cell_type": "code",
   "execution_count": 163,
   "metadata": {},
   "outputs": [
    {
     "data": {
      "text/plain": [
       "[3]"
      ]
     },
     "execution_count": 163,
     "metadata": {},
     "output_type": "execute_result"
    }
   ],
   "source": [
    "def solution(answers):\n",
    "    \n",
    "    p1 = [1,2,3,4,5]\n",
    "    p2 = [2,1,2,3,2,4,2,5]\n",
    "    p3 = [3,3,1,1,2,2,4,4,5,5]\n",
    "    \n",
    "    scores = [0, 0, 0]\n",
    "    res = []\n",
    "    \n",
    "    for idx, answer in enumerate(answers):\n",
    "        if answer == p1[idx % len(p1)]:\n",
    "            scores[0] += 1\n",
    "        if answer == p2[idx % len(p2)]:\n",
    "            scores[1] += 1\n",
    "        if answer == p3[idx % len(p3)]:\n",
    "            scores[2] += 1\n",
    "            \n",
    "    for idx, score in enumerate(scores):\n",
    "        if score == max(scores):\n",
    "            res.append(idx+1)\n",
    "            \n",
    "    return res"
   ]
  },
  {
   "cell_type": "code",
   "execution_count": 210,
   "metadata": {},
   "outputs": [
    {
     "data": {
      "text/plain": [
       "['111111', '111001', '110011', '011110', '011111', '111010']"
      ]
     },
     "execution_count": 210,
     "metadata": {},
     "output_type": "execute_result"
    }
   ],
   "source": [
    "arr1, arr2 = [46, 33, 33, 22, 31, 50], [27, 56, 19, 14, 14, 10]\n",
    "res = []\n",
    "n = 6\n",
    "for i, j in zip(arr1, arr2):\n",
    "    a12 = str(bin(i|j)[2:])\n",
    "    a12 = a12.rjust(n, \"0\")\n",
    "    res.append(a12)\n",
    "\n",
    "res"
   ]
  },
  {
   "cell_type": "code",
   "execution_count": 47,
   "metadata": {},
   "outputs": [
    {
     "data": {
      "text/plain": [
       "[3, 4, 2, 1, 5]"
      ]
     },
     "execution_count": 47,
     "metadata": {},
     "output_type": "execute_result"
    }
   ],
   "source": [
    "N, stages = 5, [2, 1, 2, 6, 2, 4, 3, 3]\n",
    "\n",
    "def solution(N, stages):\n",
    "    query = []\n",
    "\n",
    "    for i in range(1, N+1):\n",
    "        total_user = 0\n",
    "        stage_user = 0\n",
    "        for stage in stages:\n",
    "            if stage >= i:\n",
    "                total_user += 1\n",
    "            if stage == i:\n",
    "                stage_user += 1\n",
    "        query.append([i, stage_user, total_user, stage_user/total_user])\n",
    "    \n",
    "    query.sort(key = lambda x : (-x[3], x[0]))\n",
    "    return [rank[0] for rank in query]\n",
    "\n",
    "solution(N, stages)"
   ]
  },
  {
   "cell_type": "code",
   "execution_count": 50,
   "metadata": {},
   "outputs": [
    {
     "data": {
      "text/plain": [
       "[3, 4, 2, 1, 5]"
      ]
     },
     "execution_count": 50,
     "metadata": {},
     "output_type": "execute_result"
    }
   ],
   "source": [
    "N, stages = 5, [2, 1, 2, 6, 2, 4, 3, 3]\n",
    "def solution2(N, stages):\n",
    "    query = []\n",
    "    total_users = len(stages)\n",
    "    \n",
    "    for i in range(1, N+1):\n",
    "        stage_users = stages.count(i)\n",
    "        if total_users == 0:\n",
    "            failure_rate = 0\n",
    "        else:\n",
    "            failure_rate = stage_users / total_users\n",
    "        query.append((i, stage_users, total_users, failure_rate))\n",
    "        total_users -= stage_users\n",
    "    \n",
    "    query.sort(key = lambda x: (-x[3], x[0]))\n",
    "    return [level[0] for level in query]\n",
    "\n",
    "solution2(N, stages)"
   ]
  }
 ],
 "metadata": {
  "kernelspec": {
   "display_name": "BD",
   "language": "python",
   "name": "python3"
  },
  "language_info": {
   "codemirror_mode": {
    "name": "ipython",
    "version": 3
   },
   "file_extension": ".py",
   "mimetype": "text/x-python",
   "name": "python",
   "nbconvert_exporter": "python",
   "pygments_lexer": "ipython3",
   "version": "3.9.0"
  }
 },
 "nbformat": 4,
 "nbformat_minor": 2
}
