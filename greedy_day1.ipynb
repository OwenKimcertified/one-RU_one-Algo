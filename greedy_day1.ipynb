{
 "cells": [
  {
   "cell_type": "markdown",
   "metadata": {},
   "source": [
    "# 1. 큰 수의 법칙. \n",
    "\n",
    "[2, 3, 4, 5, 6] array 에서, M = 8, k = 3 이면, 6+6+6+5+6+6+6+5 = 46\n",
    "\n",
    "M만큼 더하고 k 개 이상 같은 인덱스의 숫자를 더할 수 없다.\n",
    "\n",
    "[3, 4, 3, 4, 3] array 에서는 1번, 3번 인덱스는 숫자는 같지만 인덱스는 다르기 때문에 \n",
    "\n",
    "4+4+4+ 4 + 4+4+4 + 4 = 32 이다."
   ]
  },
  {
   "cell_type": "code",
   "execution_count": 17,
   "metadata": {},
   "outputs": [
    {
     "name": "stdout",
     "output_type": "stream",
     "text": [
      "46\n"
     ]
    }
   ],
   "source": [
    "m, k = 8, 3\n",
    "arr = [4,2,3,5,6]\n",
    "arr.sort()\n",
    "\n",
    "first = arr[len(arr)-1]\n",
    "second = arr[len(arr)-2]\n",
    "\n",
    "flag = 0\n",
    "\n",
    "while True:\n",
    "    for i in range(k):\n",
    "        if  m == 0:\n",
    "            break\n",
    "        flag += first\n",
    "        m -= 1\n",
    "    \n",
    "    if m == 0:\n",
    "        break\n",
    "    flag += second\n",
    "    m -= 1\n",
    "\n",
    "\n",
    "print(flag) \n",
    "\n",
    "\"\"\"\n",
    "46\n",
    "\"\"\""
   ]
  },
  {
   "cell_type": "code",
   "execution_count": 24,
   "metadata": {},
   "outputs": [
    {
     "name": "stdout",
     "output_type": "stream",
     "text": [
      "46\n"
     ]
    }
   ],
   "source": [
    "# 6665 6665\n",
    "\n",
    "m, k = 8, 3\n",
    "arr = [5,6,2,3,4]\n",
    "arr.sort()\n",
    "\n",
    "first = arr[len(arr)-1]\n",
    "second = arr[len(arr)-2]\n",
    "\n",
    "cnt = int(m / (k+1)) * k  \n",
    "cnt += m % (k+1) \n",
    "\n",
    "flag = 0\n",
    "flag += cnt * first\n",
    "flag += (m - cnt) * second\n",
    "\n",
    "print(flag)"
   ]
  }
 ],
 "metadata": {
  "kernelspec": {
   "display_name": "newkaf",
   "language": "python",
   "name": "python3"
  },
  "language_info": {
   "codemirror_mode": {
    "name": "ipython",
    "version": 3
   },
   "file_extension": ".py",
   "mimetype": "text/x-python",
   "name": "python",
   "nbconvert_exporter": "python",
   "pygments_lexer": "ipython3",
   "version": "3.8.0"
  }
 },
 "nbformat": 4,
 "nbformat_minor": 2
}
