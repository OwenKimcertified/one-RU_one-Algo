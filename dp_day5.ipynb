{
 "cells": [
  {
   "cell_type": "markdown",
   "metadata": {},
   "source": [
    "### leetcode 119. pascal's triangle II (DP)\n",
    "\n",
    "bottom-up 방식으로 하나씩 추가.\n",
    "\n",
    "지금의 행 정보는 이전의 행 정보를 얻기 위해 전, 전전 인덱스의 값을 알아야 함.\n",
    "\n",
    "range(1,1) 이런 경우 for loop 에 body 내용은 실행되지 않음을 참고.\n",
    "\n",
    "rowIndex 의 마지막 값까지 활용하려면 +1 을 하고, \n",
    "\n",
    "행의 요소 값을 구하기 위해서\n",
    "\n",
    "1부터 i의 범위까지 2 중 for loop 을 써야함.\n",
    "\n",
    "시간 복잡도 o(n^2)"
   ]
  },
  {
   "cell_type": "code",
   "execution_count": 1,
   "metadata": {},
   "outputs": [],
   "source": [
    "class Solution:\n",
    "    def getRow(self, rowIndex):\n",
    "        self.prev = [1]\n",
    "        \n",
    "        if rowIndex == 0 :\n",
    "            return self.prev\n",
    "        \n",
    "        for i in range(1, rowIndex+1):\n",
    "            self.curr = [1]\n",
    "            for j in range(1, i):\n",
    "                self.curr.append(self.prev[j-1] + self.prev[j])\n",
    "                \n",
    "            self.curr.append(1)\n",
    "            self.prev = self.curr\n",
    "            \n",
    "        return self.prev"
   ]
  },
  {
   "cell_type": "code",
   "execution_count": 2,
   "metadata": {},
   "outputs": [
    {
     "data": {
      "text/plain": [
       "[1, 3, 3, 1]"
      ]
     },
     "execution_count": 2,
     "metadata": {},
     "output_type": "execute_result"
    }
   ],
   "source": [
    "a = Solution()\n",
    "\n",
    "a.getRow(3) # 예상 답 [1, 3, 3, 1]"
   ]
  }
 ],
 "metadata": {
  "kernelspec": {
   "display_name": "newkaf",
   "language": "python",
   "name": "python3"
  },
  "language_info": {
   "codemirror_mode": {
    "name": "ipython",
    "version": 3
   },
   "file_extension": ".py",
   "mimetype": "text/x-python",
   "name": "python",
   "nbconvert_exporter": "python",
   "pygments_lexer": "ipython3",
   "version": "3.8.0"
  }
 },
 "nbformat": 4,
 "nbformat_minor": 2
}
