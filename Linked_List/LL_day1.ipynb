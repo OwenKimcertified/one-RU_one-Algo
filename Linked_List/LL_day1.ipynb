{
 "cells": [
  {
   "cell_type": "markdown",
   "metadata": {},
   "source": [
    "### leetcode 141 연결 리스트의 사이클 유무\n",
    "\n",
    "이 문제는 연결 리스트의 헤드 노드가 주어지고, \n",
    "\n",
    "연결 리스트에 사이클이 존재하는가를 알아보는 문제.\n",
    "\n",
    "head = [3,2,0,-4] 이 연결 리스트에서 만약 순환할 수 있다면,\n",
    "\n",
    "두 칸 앞 = fast, 한 칸 앞 = slow 로 변수를 만들고 계속 진행시킬 때 \n",
    "\n",
    "fast 와 slow 가 만나는 지점이 있지 않을까 하는 토끼와 거북이 알고리즘.\n",
    "\n",
    "\n",
    "```python\n",
    "\n",
    "slow, fast = head, head\n",
    "\n",
    "while fast and fast.next: # fast 와 fast.next 가 None 이 아닐 때까지 반복.\n",
    "    slow = slow.next\n",
    "    fast = fast.next.next\n",
    "\n",
    "    if slow == fast: \n",
    "        return True\n",
    "```\n",
    "\n",
    "slow == fast 의 case 를 생각해보면, \n",
    "\n",
    "첫 번째 루프에서 \n",
    "\n",
    "s = 2, f = 0\n",
    "\n",
    "두 번째 루프에서\n",
    "\n",
    "s = 0, f = 3\n",
    "\n",
    "세 번째 루프에서 \n",
    "\n",
    "s = -4, f = 0\n",
    "\n",
    "네 번째 루프에서 \n",
    "\n",
    "s = 3, f = 3 \n",
    "\n",
    "다음과 같이 서로 만나는 지점이 생기기 때문에 \n",
    "\n",
    "slow 포인터와 fast 포인터가 언젠가 만난다면, 연결 리스트가 사이클이 있다고 판단할 수 있겠다. "
   ]
  }
 ],
 "metadata": {
  "language_info": {
   "name": "python"
  }
 },
 "nbformat": 4,
 "nbformat_minor": 2
}
