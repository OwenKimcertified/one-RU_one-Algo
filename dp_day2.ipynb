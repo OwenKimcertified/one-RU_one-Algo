{
 "cells": [
  {
   "cell_type": "markdown",
   "metadata": {},
   "source": [
    "### leetcode 118 Pascal's triangle\n",
    "__양 끝 값은 1, f(n) = f(n-1) + f(n-2) 피보나치 수열 구조.__\n",
    "\n",
    "### remind\n",
    "1. iterable, tabulation, bottom - up 의 구조를 생각.\n",
    "2. 이해한 내용을 코드로 어떻게 구현할 수 있을까 ? 고민.\n",
    "3. optimal solution 은 무엇일까, sub - problem 의 결과를 일반화 시킬 수 있는가"
   ]
  },
  {
   "cell_type": "code",
   "execution_count": 8,
   "metadata": {},
   "outputs": [
    {
     "data": {
      "text/plain": [
       "[[1], [1, 1]]"
      ]
     },
     "execution_count": 8,
     "metadata": {},
     "output_type": "execute_result"
    }
   ],
   "source": [
    "# case 1. 삼각형이 2 층이라면,\n",
    "\n",
    "double_list =[[1]]\n",
    "curr_list = []\n",
    "\n",
    "n = 2 # depth\n",
    "for i in range(n):\n",
    "    curr_list.append(1)\n",
    "    \n",
    "double_list.append(curr_list)\n",
    "\n",
    "double_list"
   ]
  },
  {
   "cell_type": "code",
   "execution_count": 13,
   "metadata": {},
   "outputs": [
    {
     "data": {
      "text/plain": [
       "[[1], [1, 1], [1, 2, 1]]"
      ]
     },
     "execution_count": 13,
     "metadata": {},
     "output_type": "execute_result"
    }
   ],
   "source": [
    "# case 2. 삼각형이 3 층이라면 ? 2 번 인덱스에 [1, 2, 1] 이 나와야 함.\n",
    "\n",
    "res = [[1]]\n",
    "n = 3\n",
    "\n",
    "for i in range(1, n):\n",
    "    curr, prev = [1], res[-1]\n",
    "    for j in range(1, i):\n",
    "        curr.append(prev[j-1] + prev[j])\n",
    "\n",
    "    curr.append(1)\n",
    "    res.append(curr)\n",
    "\n",
    "res"
   ]
  }
 ],
 "metadata": {
  "kernelspec": {
   "display_name": "newkaf",
   "language": "python",
   "name": "python3"
  },
  "language_info": {
   "codemirror_mode": {
    "name": "ipython",
    "version": 3
   },
   "file_extension": ".py",
   "mimetype": "text/x-python",
   "name": "python",
   "nbconvert_exporter": "python",
   "pygments_lexer": "ipython3",
   "version": "3.8.0"
  }
 },
 "nbformat": 4,
 "nbformat_minor": 2
}
