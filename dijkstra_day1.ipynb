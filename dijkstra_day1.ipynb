{
 "cells": [
  {
   "cell_type": "code",
   "execution_count": 11,
   "metadata": {},
   "outputs": [
    {
     "name": "stdout",
     "output_type": "stream",
     "text": [
      "0\n",
      "2\n",
      "3\n",
      "7\n",
      "INFINITY\n"
     ]
    }
   ],
   "source": [
    "import sys\n",
    "input = sys.stdin.readline\n",
    "INF = int(1e9)\n",
    "\n",
    "n, m =  5, 6 #map(int, input().split())\n",
    "start = 1 # int(input())\n",
    "graph = [[] for i in range(n + 1)]\n",
    "visited = [False] * (n + 1)\n",
    "distance = [INF] * (n + 1)\n",
    "\n",
    "# for _ in range(m):\n",
    "#     a, b, c = map(int, input().split())\n",
    "#     graph[a].append((b, c))\n",
    "\n",
    "input_data = [\n",
    "    (5, 1, 1),\n",
    "    (1, 2, 2),\n",
    "    (1, 3, 3),\n",
    "    (2, 3, 4),\n",
    "    (2, 4, 5),\n",
    "    (3, 4, 6)\n",
    "]\n",
    "\n",
    "for data in input_data:\n",
    "    a, b, c = data\n",
    "    graph[a].append((b, c))\n",
    "\n",
    "def get_smallest_node():\n",
    "    min_value = INF\n",
    "    idx = 0 \n",
    "    for i in range(1, n+1):\n",
    "        if distance[i] < min_value and not visited[i]:\n",
    "            min_value = distance[i]\n",
    "            idx = i\n",
    "    return idx\n",
    "\n",
    "def dijkstra(start):\n",
    "    distance[start] = 0\n",
    "    visited[start] = True\n",
    "    for j in graph[start]:\n",
    "        distance[j[0]] = j[1]\n",
    "\n",
    "    for _ in range(n - 1):\n",
    "        present = get_smallest_node()\n",
    "        visited[present] = True\n",
    "\n",
    "        for j in graph[present]:\n",
    "            cost = distance[present] + j[1]\n",
    "\n",
    "            if cost < distance[j[0]]:\n",
    "                distance[j[0]] = cost\n",
    "\n",
    "dijkstra(start)\n",
    "\n",
    "for i in range(1, n + 1):\n",
    "    if distance[i] == INF:\n",
    "        print(\"INFINITY\")\n",
    "\n",
    "    else:\n",
    "        print(distance[i])\n",
    "\n",
    "'''\n",
    "0\n",
    "2\n",
    "3\n",
    "7\n",
    "INFINITY\n",
    "'''"
   ]
  }
 ],
 "metadata": {
  "kernelspec": {
   "display_name": "bigdata",
   "language": "python",
   "name": "python3"
  },
  "language_info": {
   "codemirror_mode": {
    "name": "ipython",
    "version": 3
   },
   "file_extension": ".py",
   "mimetype": "text/x-python",
   "name": "python",
   "nbconvert_exporter": "python",
   "pygments_lexer": "ipython3",
   "version": "3.8.17"
  }
 },
 "nbformat": 4,
 "nbformat_minor": 2
}
