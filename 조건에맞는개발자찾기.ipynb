{
 "cells": [
  {
   "cell_type": "markdown",
   "metadata": {},
   "source": [
    "### 조건에 맞는 개발자 찾기.\n",
    "\n",
    "& 연산자(bitwise) 이런 게 있구나.\n",
    "\n",
    "\n",
    "```python\n",
    "select ID, EMAIL, FIRST_NAME, LAST_NAME\n",
    "\n",
    "from DEVELOPERS\n",
    "\n",
    "where SKILL_CODE & (select CODE from SKILLCODES where NAME = \"Python\") or\n",
    "      SKILL_CODE & (select CODE from SKILLCODES where NAME = \"C#\")\n",
    "      \n",
    "order by ID;\n",
    "```"
   ]
  }
 ],
 "metadata": {
  "language_info": {
   "name": "python"
  }
 },
 "nbformat": 4,
 "nbformat_minor": 2
}
