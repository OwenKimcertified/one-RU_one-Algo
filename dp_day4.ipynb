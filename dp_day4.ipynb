{
 "cells": [
  {
   "cell_type": "markdown",
   "metadata": {},
   "source": [
    "### **leetcode 392. Is subsequence ?**\n",
    "\n",
    "1. s 의 문자들이 '순서대로' t 에 등장해야함.\n",
    "2. DP 인지 모르겠음. 왜 DP 로 분류되어 있을까?"
   ]
  },
  {
   "cell_type": "code",
   "execution_count": 1,
   "metadata": {},
   "outputs": [],
   "source": [
    "# s 의 문자들이 '순서대로' t 에 등장해야함.\n",
    "\n",
    "# 왜 안되는지 모르겠음. \n",
    "class Solution:\n",
    "    def isSubsequence(self, s, t):\n",
    "        L = []\n",
    "        \n",
    "        if len(s) > len(t):\n",
    "            return 'false'\n",
    "        else:\n",
    "            for i in range(len(s)):\n",
    "                if s[i] in t:\n",
    "                    L.append(True)\n",
    "                else:\n",
    "                    L.append(False)\n",
    "                    \n",
    "        if L.count(True) == len(L):\n",
    "            return 'true'\n",
    "        else:\n",
    "            return 'false'\n",
    "\n",
    "# class Solution:\n",
    "#     def isSubsequence(self, s: str, t: str) -> bool:\n",
    "#         if len(s) == 0:\n",
    "#             return True\n",
    "        \n",
    "#         k = 0\n",
    "#         for i in t:\n",
    "#             if i == s[k]:\n",
    "#                 k += 1\n",
    "                        \n",
    "#             if k == len(s):\n",
    "#                 return True \n",
    "\n",
    "#         return False "
   ]
  },
  {
   "cell_type": "code",
   "execution_count": 2,
   "metadata": {},
   "outputs": [
    {
     "data": {
      "text/plain": [
       "'false'"
      ]
     },
     "execution_count": 2,
     "metadata": {},
     "output_type": "execute_result"
    }
   ],
   "source": [
    "s = \"axc\"\n",
    "t = \"ahbgdc\"\n",
    "\n",
    "# 예상 false\n",
    "\n",
    "test = Solution()\n",
    "test.isSubsequence(s, t)"
   ]
  }
 ],
 "metadata": {
  "kernelspec": {
   "display_name": "newkaf",
   "language": "python",
   "name": "python3"
  },
  "language_info": {
   "codemirror_mode": {
    "name": "ipython",
    "version": 3
   },
   "file_extension": ".py",
   "mimetype": "text/x-python",
   "name": "python",
   "nbconvert_exporter": "python",
   "pygments_lexer": "ipython3",
   "version": "3.8.0"
  }
 },
 "nbformat": 4,
 "nbformat_minor": 2
}
