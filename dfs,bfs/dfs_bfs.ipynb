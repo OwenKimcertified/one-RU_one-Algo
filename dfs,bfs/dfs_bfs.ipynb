{
 "cells": [
  {
   "cell_type": "code",
   "execution_count": 19,
   "metadata": {},
   "outputs": [],
   "source": [
    "graph = [\n",
    "    [],\n",
    "    [2,3,8],\n",
    "    [1,7],\n",
    "    [1,4,5],\n",
    "    [3,5],\n",
    "    [3,4],\n",
    "    [7],\n",
    "    [2,6,8],\n",
    "    [1,7]\n",
    "]\n",
    "\n",
    "visited = [False] * len(graph) "
   ]
  },
  {
   "cell_type": "code",
   "execution_count": 20,
   "metadata": {},
   "outputs": [
    {
     "name": "stdout",
     "output_type": "stream",
     "text": [
      "1 2 7 6 8 3 4 5 "
     ]
    }
   ],
   "source": [
    "def dfs(graph, start_node, visited):\n",
    "    visited[start_node] = True\n",
    "    print(start_node, end = \" \")\n",
    "    \n",
    "    for i in graph[start_node]:\n",
    "        if not visited[i]:\n",
    "            dfs(graph, i, visited)\n",
    "\n",
    "dfs(graph, 1, visited)            "
   ]
  },
  {
   "cell_type": "markdown",
   "metadata": {},
   "source": [
    "### recursion call stack\n",
    "\n",
    "7에서 2는 방문했고 6을 방문하지 않아 6을 방문처리 후 큐에 추가. \n",
    "\n",
    "후에 큐에 추가된 노드의 인접노드를 확인하는데 6의 인접노드는 7밖에 없고, 7은 이미 방문처리된 상태라\n",
    "\n",
    "해당 루프는 끝이나고 __이전 콜스택인 2,6,8 즉 7번 노드의 인접노드를 탐색하는 for loop 으로 돌아감.__\n",
    "\n",
    "그럼 2,6 은 방문한 상태라 8을 방문처리 후 큐에 추가하게 됨."
   ]
  },
  {
   "cell_type": "code",
   "execution_count": 22,
   "metadata": {},
   "outputs": [
    {
     "name": "stdout",
     "output_type": "stream",
     "text": [
      "1 2 3 8 7 4 5 6 "
     ]
    }
   ],
   "source": [
    "from collections import deque\n",
    "\n",
    "visited = [False] * len(graph)\n",
    "\n",
    "def bfs(graph, start_node, visited):\n",
    "    q = deque([start_node])\n",
    "    visited[start_node] = True\n",
    "\n",
    "    while q:\n",
    "        vertexs = q.popleft()\n",
    "        print(vertexs, end = \" \")\n",
    "        \n",
    "        for vertex in graph[vertexs]:\n",
    "            if not visited[vertex]:\n",
    "                visited[vertex] = True\n",
    "                q.append(vertex)            \n",
    "\n",
    "bfs(graph, 1, visited)  "
   ]
  }
 ],
 "metadata": {
  "kernelspec": {
   "display_name": "BD",
   "language": "python",
   "name": "python3"
  },
  "language_info": {
   "codemirror_mode": {
    "name": "ipython",
    "version": 3
   },
   "file_extension": ".py",
   "mimetype": "text/x-python",
   "name": "python",
   "nbconvert_exporter": "python",
   "pygments_lexer": "ipython3",
   "version": "3.9.0"
  }
 },
 "nbformat": 4,
 "nbformat_minor": 2
}
