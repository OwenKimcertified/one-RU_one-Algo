{
 "cells": [
  {
   "cell_type": "markdown",
   "metadata": {},
   "source": [
    "### leetcode 88 Merge and Sort two list\n",
    "\n",
    "두 개의 리스트를 합치고 오름차순으로 정렬하는 문제.\n",
    "\n",
    "`nums1 array 에 nums2 array 의 elements 가 담기고 정렬돼야함.`"
   ]
  },
  {
   "cell_type": "code",
   "execution_count": 2,
   "metadata": {},
   "outputs": [
    {
     "data": {
      "text/plain": [
       "[1, 2, 2, 3, 5, 6]"
      ]
     },
     "execution_count": 2,
     "metadata": {},
     "output_type": "execute_result"
    }
   ],
   "source": [
    "# 시간 복잡도 O(N + M)\n",
    "\n",
    "nums1 = [1,2,3,0,0,0]\n",
    "n = 3\n",
    "nums2 = [2,5,6]\n",
    "m = 3\n",
    "\n",
    "v1, v2 = m-1, n-1\n",
    "\n",
    "# nums1 의 끝부터 nums1, nums2 의 큰 값을 차례로 삽입\n",
    "for v in range(m+n-1, -1, -1):\n",
    "    if v2 < 0:\n",
    "        break\n",
    "    \n",
    "    if v1 >= 0 and nums1[v1] > nums2[v2]:\n",
    "        nums1[v] = nums1[v1]\n",
    "        v1 -= 1\n",
    "    \n",
    "    else:\n",
    "        nums1[v] = nums2[v2]\n",
    "        v2 -= 1"
   ]
  },
  {
   "cell_type": "code",
   "execution_count": 4,
   "metadata": {},
   "outputs": [
    {
     "data": {
      "text/plain": [
       "[1, 2, 2, 3, 5, 6]"
      ]
     },
     "execution_count": 4,
     "metadata": {},
     "output_type": "execute_result"
    }
   ],
   "source": [
    "# 시간 복잡도 O(2N) 잘못된 의도의 코드\n",
    "\n",
    "nums1 = [1,2,3,0,0,0]\n",
    "n = 3\n",
    "nums2 = [2,5,6]\n",
    "m = 3\n",
    "\n",
    "nl = []\n",
    "\n",
    "for i in nums1:\n",
    "    if i != 0:\n",
    "        nl.append(i)\n",
    "        \n",
    "for j in nums2:\n",
    "    if j != 0:\n",
    "        nl.append(j)\n",
    "        \n",
    "sorted(nl)"
   ]
  }
 ],
 "metadata": {
  "kernelspec": {
   "display_name": "BD",
   "language": "python",
   "name": "python3"
  },
  "language_info": {
   "codemirror_mode": {
    "name": "ipython",
    "version": 3
   },
   "file_extension": ".py",
   "mimetype": "text/x-python",
   "name": "python",
   "nbconvert_exporter": "python",
   "pygments_lexer": "ipython3",
   "version": "3.9.0"
  }
 },
 "nbformat": 4,
 "nbformat_minor": 2
}
