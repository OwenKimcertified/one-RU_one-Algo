{
 "cells": [
  {
   "cell_type": "markdown",
   "metadata": {},
   "source": [
    "### 크레인 인형 뽑기 게임\n",
    "\n",
    "인덱스 슬라이싱 문제가 정말 많이 나온다.\n",
    "\n",
    "![1](../imgs/crane1.png)\n",
    "\n",
    "n x n 사이즈의 공간이 2차원 공간이 주어짐  [[0,0,0,0,0], ...] 이런 공간이 주어짐\n",
    "\n",
    "인형의 사이즈는 1 x 1 이며 1인형 = 1칸\n",
    "\n",
    "![2](../imgs/crane2.gif)\n",
    "\n",
    "크레인으로 잡은 인형은 바구니에 옮겨 담고 만약 연속으로 같은 인형이라면 제거되며 점수가 2점 올라감.\n",
    "\n",
    "2차원 배열의 리스트를 순회하며 적절한 __인덱스__ 를 활용하며 문제를 해결해야 함.\n",
    "\n",
    "결과는 크레인이 다 움직인 후에 몇 개의 인형이 사라졌는 지 리턴하는 문제."
   ]
  },
  {
   "cell_type": "code",
   "execution_count": 1,
   "metadata": {},
   "outputs": [
    {
     "data": {
      "text/plain": [
       "4"
      ]
     },
     "execution_count": 1,
     "metadata": {},
     "output_type": "execute_result"
    }
   ],
   "source": [
    "board= [[0, 0, 0, 0, 0], [0, 0, 1, 0, 3], [0, 2, 5, 0, 1], [4, 2, 4, 4, 2], [3, 5, 1, 3, 1]]\n",
    "moves = [1, 5, 3, 5, 1, 2, 1, 4]\n",
    "\n",
    "def solution(board, moves):\n",
    "    \n",
    "    pocket = []\n",
    "    pang = 0\n",
    "\n",
    "    for i in moves:\n",
    "        for j in range(len(board)):\n",
    "            if board[j][i-1] != 0:\n",
    "                pocket.append(board[j][i-1])\n",
    "                board[j][i-1] = 0\n",
    "                break\n",
    "\n",
    "        if len(pocket) > 2 and pocket[-1] == pocket[-2]:\n",
    "            pang += 2\n",
    "            pocket = pocket[:-2]\n",
    "    \n",
    "    return pang\n",
    "\n",
    "solution(board, moves)"
   ]
  },
  {
   "cell_type": "markdown",
   "metadata": {},
   "source": [
    "인형을 뽑은 후(해당 인덱스를 0으로 만든 시점)에 \n",
    "\n",
    "더 이상의 탐색이 필요하지 않아서 반복문을 멈춰줘야 한다.\n",
    "\n",
    "예를 들어 첫 번째가 1번 자리의 인형을 올리는 건데\n",
    "\n",
    "board의 3번 인덱스 1번 자리 4를 pocket에 담고 0으로 만든 후 멈춰야 하는데 \n",
    "\n",
    "break가 없으면 pocket에 4를 담았음에도 board의 4번 인덱스의 첫 번째 자리까지 탐색하게된다.(인형이 없는 것처럼 움직이게 됨.)"
   ]
  }
 ],
 "metadata": {
  "kernelspec": {
   "display_name": "BD",
   "language": "python",
   "name": "python3"
  },
  "language_info": {
   "codemirror_mode": {
    "name": "ipython",
    "version": 3
   },
   "file_extension": ".py",
   "mimetype": "text/x-python",
   "name": "python",
   "nbconvert_exporter": "python",
   "pygments_lexer": "ipython3",
   "version": "3.9.0"
  }
 },
 "nbformat": 4,
 "nbformat_minor": 2
}
