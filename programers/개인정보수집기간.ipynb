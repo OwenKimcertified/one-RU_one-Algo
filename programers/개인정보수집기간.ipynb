{
 "cells": [
  {
   "cell_type": "markdown",
   "metadata": {},
   "source": [
    "### 개인 정보 수집 유효기간.\n",
    "\n",
    "생각해야 하는 부분들.\n",
    "\n",
    "2021.07.12 일 때, 유효기간이 8개월이면, 2022.3.12 로 변경돼야함.\n",
    "\n",
    "모든 달은 28일까지. 파기일과 경과일이 같은 부분까지 반환하고 인덱스+1(번호)로 리턴해야함.\n",
    "\n",
    "```python\n",
    "date_format = \"%Y.%m.%d\"\n",
    "datetime.strptime(date, date_format) -> datetime.datetime(2022, 5, 19, 0, 0)\n",
    "relativedelta(months = n) -> relativedelta(months=+9)\n",
    "```\n",
    "\n",
    "위의 코드로 datetime.strptime(date, date_format) + relativedelta(months = n) 이렇게 연산하면 \n",
    "\n",
    "6달만 더해진 2023 02 19가 된다."
   ]
  },
  {
   "cell_type": "code",
   "execution_count": 5,
   "metadata": {},
   "outputs": [
    {
     "data": {
      "text/plain": [
       "[1, 3]"
      ]
     },
     "execution_count": 5,
     "metadata": {},
     "output_type": "execute_result"
    }
   ],
   "source": [
    "from datetime import datetime\n",
    "from dateutil.relativedelta import relativedelta\n",
    "\n",
    "today = \"2022.05.19\"\n",
    "terms = [\"A 6\", \"B 12\", \"C 3\"]\n",
    "privacies = [\"2021.05.02 A\", \"2021.07.01 B\", \"2022.02.19 C\", \"2022.02.20 C\"]\n",
    "\n",
    "def solution(today, terms, privacies):\n",
    "    date_format = \"%Y.%m.%d\"\n",
    "    today = datetime.strptime(today, date_format)\n",
    "    \n",
    "    res = []\n",
    "    terms_dict = {terms[i].split(\" \")[0] : int(terms[i].split(\" \")[1]) for i in range(len(terms))}\n",
    "    \n",
    "    for i, privacy in enumerate(privacies):\n",
    "        p, q = privacy.split(\" \")\n",
    "        ckdate = datetime.strptime(p, date_format) + relativedelta(months = terms_dict[q])\n",
    "        if today >= ckdate:\n",
    "            res.append(i+1)\n",
    "    \n",
    "    return res\n",
    "\n",
    "solution(today, terms, privacies)"
   ]
  },
  {
   "cell_type": "markdown",
   "metadata": {},
   "source": [
    "### 만약 라이브러리를 쓰지 않는다면?\n",
    "\n",
    "날짜에 대한 연산을 직접해야 하는데, \n",
    "\n",
    "주의해야 하는 점은 12월을 초과하게 되면, 년은 1이 오르고 달은 1로 초기화 되어야 함.\n",
    "\n",
    "month, year 를 변수로 두고 연산을 하는데, 만약 7월이고 8개월을 더해 1년 3개월이 되어야 하는 경우에,\n",
    "\n",
    "```python\n",
    "if month > 12:\n",
    "    year += (month) // 12  #  12로 나눈 몫\n",
    "    month = (month) % 12 # 12로 나눈 나머지\n",
    "```\n",
    "\n",
    "위의 방식으로 연산할 수 있을 것이다. \n",
    "\n",
    "날짜 연산에 대한 부분은 SQL 에도 자주 나오니 기억해두면 좋을 것 같다."
   ]
  }
 ],
 "metadata": {
  "kernelspec": {
   "display_name": "BD",
   "language": "python",
   "name": "python3"
  },
  "language_info": {
   "codemirror_mode": {
    "name": "ipython",
    "version": 3
   },
   "file_extension": ".py",
   "mimetype": "text/x-python",
   "name": "python",
   "nbconvert_exporter": "python",
   "pygments_lexer": "ipython3",
   "version": "3.9.0"
  }
 },
 "nbformat": 4,
 "nbformat_minor": 2
}
