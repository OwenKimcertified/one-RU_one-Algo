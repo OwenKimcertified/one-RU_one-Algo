{
 "cells": [
  {
   "cell_type": "markdown",
   "metadata": {},
   "source": [
    "### 키패드 누르기.\n",
    "\n",
    "모든 것을 좌표로 생각해보면 편한 문제.\n",
    "\n",
    "딕셔너리 컴프리헨션으로 번호들의 좌표를 만들고 (2차원 공간으로) \n",
    "\n",
    "각 번호들끼리의 거리를 구하면 되는 부분.\n",
    "\n",
    "대각선 이동이 불가능하니까 변의 길이를 구하면 되겠다.\n",
    "\n",
    "주의할 점은 패드를 누르기 위해 손가락을 움직였다면 \n",
    "\n",
    "움직인 손가락의 위치를 업데이트할 생각하자."
   ]
  },
  {
   "cell_type": "code",
   "execution_count": 2,
   "metadata": {},
   "outputs": [
    {
     "data": {
      "text/plain": [
       "True"
      ]
     },
     "execution_count": 2,
     "metadata": {},
     "output_type": "execute_result"
    }
   ],
   "source": [
    "hand = \"right\"\n",
    "numbers = [1, 3, 4, 5, 8, 2, 1, 4, 5, 9, 5]\n",
    "\n",
    "def distance(x1, x2, y1, y2):\n",
    "    return abs(x2-x1) + abs(y2 - y1)\n",
    "\n",
    "def solution(numbers, hand):\n",
    "    pad = [[1,2,3], [4,5,6],[7,8,9],['*',0,'#']]\n",
    "    pos = {pad[x][y] : (x,y) for x in range(len(pad)) for y in range(len(pad[0]))}\n",
    "\n",
    "    left_hand = pos['*']\n",
    "    right_hand = pos['#']\n",
    "\n",
    "    res = []\n",
    "\n",
    "    for i in numbers:\n",
    "        if i in [1,4,7]:\n",
    "            res.append(\"L\")\n",
    "            left_hand = pos[i]\n",
    "        elif i in [3,6,9]:\n",
    "            res.append(\"R\")\n",
    "            right_hand = pos[i]\n",
    "        else:\n",
    "            left_distance = distance(left_hand[0], pos[i][0], left_hand[1], pos[i][1])\n",
    "            right_distance = distance(right_hand[0], pos[i][0], right_hand[1], pos[i][1])\n",
    "\n",
    "            if left_distance < right_distance:\n",
    "                res.append(\"L\")\n",
    "                left_hand = pos[i]\n",
    "            elif left_distance > right_distance:\n",
    "                res.append(\"R\")\n",
    "                right_hand = pos[i]\n",
    "            else:\n",
    "                if hand == 'left':\n",
    "                    res.append(\"L\")\n",
    "                    left_hand = pos[i]\n",
    "                else:\n",
    "                    res.append(\"R\")\n",
    "                    right_hand = pos[i]\n",
    "    \n",
    "    return ''.join(res)\n",
    "\n",
    "\n",
    "\n",
    "# 답 \"LRLLLRLLRRL\"\n",
    "solution(numbers, hand) == \"LRLLLRLLRRL\""
   ]
  }
 ],
 "metadata": {
  "kernelspec": {
   "display_name": "BD",
   "language": "python",
   "name": "python3"
  },
  "language_info": {
   "codemirror_mode": {
    "name": "ipython",
    "version": 3
   },
   "file_extension": ".py",
   "mimetype": "text/x-python",
   "name": "python",
   "nbconvert_exporter": "python",
   "pygments_lexer": "ipython3",
   "version": "3.9.0"
  }
 },
 "nbformat": 4,
 "nbformat_minor": 2
}
