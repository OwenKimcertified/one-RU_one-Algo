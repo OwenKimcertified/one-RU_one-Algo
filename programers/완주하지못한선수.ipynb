{
 "cells": [
  {
   "cell_type": "markdown",
   "metadata": {},
   "source": [
    "### 완주하지 못한 선수\n",
    "\n",
    "참가자의 명단이 있고, 완주자의 명단이 있는 상황에서 완주하지 못한 참가자를 리턴하는 문제.\n",
    "\n",
    "참가자 중에는 동명이인이 있을 수 있는 상황에서, 만약 A 이름의 동명이인 참가자가 3명이고 완주자 명단엔 2명의 A밖에 없다면 완주하지 못한 A가 있다는 뜻.\n",
    "\n",
    "같은 이름을 가진 사람에 대한 처리를 어떻게 할 것인지가 중요.\n",
    "\n",
    "시간 복잡도도 따지기 때문에 딕셔너리로 짤 생각이였음."
   ]
  },
  {
   "cell_type": "code",
   "execution_count": 4,
   "metadata": {},
   "outputs": [
    {
     "data": {
      "text/plain": [
       "'mislav'"
      ]
     },
     "execution_count": 4,
     "metadata": {},
     "output_type": "execute_result"
    },
    {
     "ename": "",
     "evalue": "",
     "output_type": "error",
     "traceback": [
      "\u001b[1;31mThe Kernel crashed while executing code in the current cell or a previous cell. \n",
      "\u001b[1;31mPlease review the code in the cell(s) to identify a possible cause of the failure. \n",
      "\u001b[1;31mClick <a href='https://aka.ms/vscodeJupyterKernelCrash'>here</a> for more info. \n",
      "\u001b[1;31mView Jupyter <a href='command:jupyter.viewOutput'>log</a> for further details."
     ]
    }
   ],
   "source": [
    "participant = [\"mislav\", \"stanko\", \"mislav\", \"ana\"]\n",
    "completion = [\"stanko\", \"ana\", \"mislav\"]\n",
    "\n",
    "def solution(participant, completion):\n",
    "    \n",
    "    dict1 = {}\n",
    "\n",
    "    for p in participant:\n",
    "        if p in dict1:\n",
    "            dict1[p] += 1\n",
    "        else:\n",
    "            dict1[p] = 1\n",
    "\n",
    "    for c in completion:\n",
    "        if c in dict1:\n",
    "            dict1[c] -= 1\n",
    "\n",
    "    for k, v in dict1.items():\n",
    "        if v >= 1:\n",
    "            return k\n",
    "    \n",
    "solution(participant, completion)"
   ]
  },
  {
   "cell_type": "markdown",
   "metadata": {},
   "source": [
    "위의 코드처럼 n명의 동명의 사람이 있어도 참가자 명단에서 완주자 명단의 이름을 뺏을 때 1이상이면 완주하지 못한 사람이 있다는 말과 같다.\n",
    "\n",
    "시간 복잡도는 순회를 3번해서 O(3n) 이라고 할 수 있겠다.\n",
    "\n",
    "\n",
    "### + 삽질코드"
   ]
  },
  {
   "cell_type": "code",
   "execution_count": null,
   "metadata": {},
   "outputs": [],
   "source": [
    "# 삽질\n",
    "def solution(participant, completion):\n",
    "    \n",
    "    p = list(set(participant))\n",
    "    \n",
    "    dict = {i : 0 for i in p}\n",
    "    \n",
    "    for i in participant:\n",
    "        dict[i] += 1\n",
    "    \n",
    "    \n",
    "    for k in p:\n",
    "        if dict[k] == 1 and k not in completion:\n",
    "            return k\n",
    "        elif dict[k] >= 2 and k in completion:\n",
    "            return k\n",
    "# 더 삽질        \n",
    "def solution(participant, completion):\n",
    "    \n",
    "    p = list(set(participant))\n",
    "    \n",
    "    dict1 = {i : 0 for i in p}\n",
    "    \n",
    "    for i in participant:\n",
    "        dict1[i] += 1\n",
    "    \n",
    "    q = list(set(completion))\n",
    "    \n",
    "    dict2 = {i : 0 for i in q}\n",
    "    \n",
    "    for j in completion:\n",
    "        dict2[j] += 1\n",
    "    \n",
    "    for k in p:\n",
    "        if dict1[k] == 1 and k not in completion:\n",
    "            return k\n",
    "        \n",
    "        elif dict1[k] >= 2 and k in completion:\n",
    "            return k        \n",
    "        \n",
    "        elif dict1[k] >= 2 and dict2[k] >= 2 and k in completion:\n",
    "            return k * abs(dict1[k] - dict2[k])"
   ]
  },
  {
   "cell_type": "markdown",
   "metadata": {},
   "source": [
    "위와 같이 코드를 짜게되면 동명의 참가자가 많은 경우에 대처를 할 수가 없다.\n",
    "\n",
    "특히 불필요하게 반복문이 쓰이는 점과 p = list(set(participant)) 이런 부분과 같은 필요없는 코드가 있다.\n",
    "\n",
    "범용적인 코드를 짜는 실력이 좀 부족한 거 같다."
   ]
  }
 ],
 "metadata": {
  "kernelspec": {
   "display_name": "BD",
   "language": "python",
   "name": "python3"
  },
  "language_info": {
   "codemirror_mode": {
    "name": "ipython",
    "version": 3
   },
   "file_extension": ".py",
   "mimetype": "text/x-python",
   "name": "python",
   "nbconvert_exporter": "python",
   "pygments_lexer": "ipython3",
   "version": "3.9.0"
  }
 },
 "nbformat": 4,
 "nbformat_minor": 2
}
