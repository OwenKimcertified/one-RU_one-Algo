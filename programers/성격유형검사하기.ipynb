{
 "cells": [
  {
   "cell_type": "markdown",
   "metadata": {},
   "source": [
    "### 성격 유형 검사하기. \n",
    "\n",
    "해설대로 가면 풀리는 문제."
   ]
  },
  {
   "cell_type": "code",
   "execution_count": 1,
   "metadata": {},
   "outputs": [],
   "source": [
    "def solution(survey, choices):\n",
    "    survey_point = {1:3, 2:2, 3:1, 4:0, 5:1, 6:2, 7:3}\n",
    "    \n",
    "    score = {\n",
    "           \"R\" : 0, \"T\" : 0,\n",
    "           \"C\" : 0, \"F\" : 0,\n",
    "           \"J\" : 0, \"M\" : 0,\n",
    "           \"A\" : 0, \"N\" : 0\n",
    "           }\n",
    "    \n",
    "    res = \"\"\n",
    "    \n",
    "    for i, j in zip(survey, choices):\n",
    "        case1, case2 = i[0], i[1]\n",
    "        if j > 4:\n",
    "            score[case2] += survey_point[j]\n",
    "        elif j < 4:\n",
    "            score[case1] += survey_point[j]\n",
    "        else:\n",
    "            pass  \n",
    "    \n",
    "    if score[\"R\"] >= score[\"T\"]:\n",
    "        res += \"R\"\n",
    "    else:\n",
    "        res += \"T\"\n",
    "    \n",
    "    if score[\"C\"] >= score[\"F\"]:\n",
    "        res += \"C\"\n",
    "    else:\n",
    "        res += \"F\"\n",
    "    \n",
    "    if score[\"J\"] >= score[\"M\"]:\n",
    "        res += \"J\"\n",
    "    else:\n",
    "        res += \"M\"\n",
    "    \n",
    "    if score[\"A\"] >= score[\"N\"]:\n",
    "        res += \"A\"\n",
    "    else:\n",
    "        res += \"N\"\n",
    "        \n",
    "    return res"
   ]
  }
 ],
 "metadata": {
  "kernelspec": {
   "display_name": "BD",
   "language": "python",
   "name": "python3"
  },
  "language_info": {
   "codemirror_mode": {
    "name": "ipython",
    "version": 3
   },
   "file_extension": ".py",
   "mimetype": "text/x-python",
   "name": "python",
   "nbconvert_exporter": "python",
   "pygments_lexer": "ipython3",
   "version": "3.9.0"
  }
 },
 "nbformat": 4,
 "nbformat_minor": 2
}
