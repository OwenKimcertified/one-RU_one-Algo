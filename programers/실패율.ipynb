{
 "cells": [
  {
   "cell_type": "markdown",
   "metadata": {},
   "source": [
    "### 실패율 \n",
    "\n",
    "이용자들이 진행중인 단계가 담긴 리스트 stages와 스테이지의 개수 N이 주어진다.\n",
    "\n",
    "해당 스테이지를 클리어 실패한 사람의 비율 $\\frac{a}{a + b}$ 이다.\n",
    "\n",
    "a(해당 스테이지에 도전 중인 사람), b(해당 스테이지를 클리어한 사람) 으로 표현 가능.\n",
    "\n",
    "위에서 수식에서 중요한 부분은 해당 스테이지 부분인데, \n",
    "\n",
    "예를 들어 2단계의 실패율에는 1단계에 도전 중인 a, b 어디에도 속하지 않기 때문에 \n",
    "\n",
    "전 단계에 도전 중인 사람들은 제외 후 카운트 해야한다.\n",
    "\n",
    "N을 Level로 본다면 난이도 순으로 정렬이 되기 때문에 전 단계에 도전 중인 사람들을 제외 후 계산할 수 있겠다.\n",
    "\n",
    "마지막 결과는 실패율이 높은 단계 순으로, 실패율이 같다면 단계가 낮은 순서로 반환한다."
   ]
  },
  {
   "cell_type": "code",
   "execution_count": 5,
   "metadata": {},
   "outputs": [
    {
     "name": "stdout",
     "output_type": "stream",
     "text": [
      "0.0\n"
     ]
    }
   ],
   "source": [
    "# 시간 초과 code\n",
    "import time\n",
    "N, stages = 5, [2, 1, 2, 6, 2, 4, 3, 3]\n",
    "\n",
    "def solution(N, stages):\n",
    "    query = []\n",
    "\n",
    "    for i in range(1, N+1):\n",
    "        total_user = 0\n",
    "        stage_user = 0\n",
    "        for stage in stages:\n",
    "            if stage >= i:\n",
    "                total_user += 1\n",
    "            if stage == i:\n",
    "                stage_user += 1\n",
    "        query.append([i, stage_user, total_user, stage_user/total_user])\n",
    "    \n",
    "    query.sort(key = lambda x : (-x[3], x[0]))\n",
    "    return [rank[0] for rank in query]"
   ]
  },
  {
   "cell_type": "markdown",
   "metadata": {},
   "source": [
    "위의 코드의 시간 복잡도는 O(N^2)\n",
    "\n",
    "단계를 올라가면서 이용자를 계산하고 있는데 \n",
    "\n",
    "total_user와 stage_user를 중복해서 계산하는 부분이 너무 많아지고 있다.\n",
    "\n",
    "로직을 따라가면 단계가 올라갈 때마다 계속해서 단계 리스트의 전부를 순회하고 있다.\n",
    "\n",
    "전 단계의 유저는 제외하도록 되어있지만 중복해서 계산하는 부분이 너무 많아진 코드다."
   ]
  },
  {
   "cell_type": "code",
   "execution_count": 7,
   "metadata": {},
   "outputs": [
    {
     "data": {
      "text/plain": [
       "[3, 4, 2, 1, 5]"
      ]
     },
     "execution_count": 7,
     "metadata": {},
     "output_type": "execute_result"
    }
   ],
   "source": [
    "# pass code\n",
    "import time\n",
    "N, stages = 5, [2, 1, 2, 6, 2, 4, 3, 3]\n",
    "\n",
    "def solution(N, stages):\n",
    "    res = []\n",
    "    total_users = len(stages)\n",
    "\n",
    "    for i in range(1, N+1):\n",
    "        stage_users = stages.count(i)\n",
    "        if not total_users:\n",
    "            fail_ratio = 0\n",
    "            res.append([i, fail_ratio])\n",
    "        else:\n",
    "            fail_ratio = stage_users/total_users\n",
    "            res.append([i, fail_ratio])\n",
    "            total_users -= stage_users\n",
    "\n",
    "    res.sort(key = lambda x : (-x[1], x))\n",
    "\n",
    "    return [level[0] for level in res]\n",
    "\n",
    "solution(N, stages)"
   ]
  }
 ],
 "metadata": {
  "kernelspec": {
   "display_name": "BD",
   "language": "python",
   "name": "python3"
  },
  "language_info": {
   "codemirror_mode": {
    "name": "ipython",
    "version": 3
   },
   "file_extension": ".py",
   "mimetype": "text/x-python",
   "name": "python",
   "nbconvert_exporter": "python",
   "pygments_lexer": "ipython3",
   "version": "3.9.0"
  }
 },
 "nbformat": 4,
 "nbformat_minor": 2
}
