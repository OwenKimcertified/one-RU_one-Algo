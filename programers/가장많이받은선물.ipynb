{
 "cells": [
  {
   "cell_type": "markdown",
   "metadata": {},
   "source": [
    "### 가장 많이 받은 선물 \n",
    "\n",
    "```python\n",
    "두 사람이 선물을 주고받은 기록이 하나도 없거나 주고받은 수가 같다면, 선물 지수가 더 큰 사람이 선물 지수가 더 작은 사람에게 선물을 하나 받습니다.\n",
    "선물 지수는 이번 달까지 자신이 친구들에게 준 선물의 수에서 받은 선물의 수를 뺀 값입니다.\n",
    "예를 들어 A가 친구들에게 준 선물이 3개고 받은 선물이 10개라면 A의 선물 지수는 -7입니다. B가 친구들에게 준 선물이 3개고 받은 선물이 2개라면 B의 선물 지수는 1입니다. \n",
    "만약 A와 B가 선물을 주고받은 적이 없거나 정확히 같은 수로 선물을 주고받았다면, 다음 달엔 B가 A에게 선물을 하나 받습니다.\n",
    "만약 두 사람의 선물 지수도 같다면 다음 달에 선물을 주고받지 않습니다.\n",
    "위에서 설명한 규칙대로 다음 달에 선물을 주고받을 때, 당신은 선물을 가장 많이 받을 친구가 받을 선물의 수를 알고 싶습니다.\n",
    "```\n",
    "\n",
    "위의 조건을 처리하는 게 생각보다 너무 힘들다.\n",
    "\n",
    "생각을 정리하고 내가 작성한 코드로 수정해서 다시 올려보겠음. "
   ]
  },
  {
   "cell_type": "code",
   "execution_count": 2,
   "metadata": {},
   "outputs": [
    {
     "data": {
      "text/plain": [
       "2"
      ]
     },
     "execution_count": 2,
     "metadata": {},
     "output_type": "execute_result"
    }
   ],
   "source": [
    "# 계산 로직을 가져와서 사용했는데 기존에 작성하던 부분이 이해가 안감.\n",
    "\n",
    "friends = [\"muzi\", \"ryan\", \"frodo\", \"neo\"]\n",
    "gifts = [\"muzi frodo\", \"muzi frodo\", \"ryan muzi\", \"ryan muzi\", \"ryan muzi\", \"frodo muzi\", \"frodo ryan\", \"neo muzi\"]\n",
    "\n",
    "def solution(friends, gifts):\n",
    "    # present cnt\n",
    "    graph = {i : {j : 0 for j in friends if j != i} for i in friends}\n",
    "    # present ratio\n",
    "    graph2 = {k : {'give' : 0, 'receive' : 0, \"ratio\" : 0} for k in friends}\n",
    "\n",
    "    for i in gifts:\n",
    "        giver, receiver = i.split(\" \")\n",
    "        graph[giver][receiver] += 1\n",
    "\n",
    "    for i in friends:\n",
    "        for j in friends:\n",
    "            if i != j:\n",
    "                graph2[i]['give'] += graph[i][j]\n",
    "                graph2[i]['receive'] += graph[j][i]\n",
    "                graph2[i]['ratio'] = (graph2[i]['give'] - graph2[i]['receive'])\n",
    "\n",
    "#---------------------------------------------------\n",
    "\n",
    "    graph3 = [0 for _ in friends] \n",
    "    for i in range(len(friends)):\n",
    "        curr = friends[i] \n",
    "        for j in range(i+1, len(friends)):\n",
    "            another = friends[j] \n",
    "           \n",
    "            a = graph[curr][another] if another in graph[curr] else 0 \n",
    "            \n",
    "            b = graph[another][curr] if curr in graph[another] else 0 \n",
    "            \n",
    "            if a > b:\n",
    "                graph3[i] += 1\n",
    "            elif a < b: \n",
    "                graph3[j] += 1\n",
    "            elif a == b: \n",
    "                ai, bi = graph2[curr]['ratio'], graph2[another]['ratio']\n",
    "                if ai > bi:\n",
    "                    graph3[i] += 1\n",
    "                elif ai < bi:\n",
    "                    graph3[j] += 1\n",
    "    \n",
    "    answer = max(graph3)\n",
    "    return answer\n",
    "\n",
    "solution(friends, gifts)"
   ]
  },
  {
   "cell_type": "code",
   "execution_count": 1,
   "metadata": {},
   "outputs": [
    {
     "data": {
      "text/plain": [
       "4"
      ]
     },
     "execution_count": 1,
     "metadata": {},
     "output_type": "execute_result"
    }
   ],
   "source": [
    "# 작성 중 코드\n",
    "\n",
    "# 많이 준 사람이 한 개 받음.\n",
    "# 준선물 - 받은 선물 = 선물지수\n",
    "# 서로 선물을 주고받은 적이 없다면, B가 A에게 선물을 받음\n",
    "# 선물지수도 같으면 선물 교환x\n",
    "# muzi frodo 의 순서면 무지가 프로도에게 선물을 준 것임\n",
    "\n",
    "friends = [\"muzi\", \"ryan\", \"frodo\", \"neo\"]\n",
    "gifts = [\"muzi frodo\", \"muzi frodo\", \"ryan muzi\", \"ryan muzi\", \"ryan muzi\", \"frodo muzi\", \"frodo ryan\", \"neo muzi\"]\n",
    "\n",
    "def solution(friends, gifts):\n",
    "    # present cnt\n",
    "    graph = {i : {j : 0 for j in friends if j != i} for i in friends}\n",
    "    # present ratio\n",
    "    graph2 = {k : {'give' : 0, 'receive' : 0, \"ratio\" : 0} for k in friends}\n",
    "    # result give present\n",
    "    graph3 = {i : {j : 0 for j in friends if j != i} for i in friends}\n",
    "    # find friend who will receive the most gifts\n",
    "    graph4 = {m : 0 for m in friends}     \n",
    "\n",
    "    for i in gifts:\n",
    "        giver, receiver = i.split(\" \")\n",
    "        graph[giver][receiver] += 1\n",
    "\n",
    "    for i in friends:\n",
    "        for j in friends:\n",
    "            if i != j:\n",
    "                graph2[i]['give'] += graph[i][j]\n",
    "                graph2[i]['receive'] += graph[j][i]\n",
    "                graph2[i]['ratio'] = (graph2[i]['give'] - graph2[i]['receive'])\n",
    "   \n",
    "                if graph[i][j] > graph[j][i]:\n",
    "                    graph3[i][j] += 1\n",
    "                elif graph[i][j] < graph[j][i]:\n",
    "                    graph3[j][i] += 1\n",
    "                else:\n",
    "                    if graph2[i]['ratio'] > graph2[j]['ratio']:\n",
    "                        graph3[i][j] += 1\n",
    "                    elif graph2[i]['ratio'] < graph2[j]['ratio']:\n",
    "                        graph3[j][i] += 1\n",
    "     \n",
    "    for i in friends:\n",
    "        for j in friends:\n",
    "            if i != j and graph3[i][j] > 0:\n",
    "                graph4[j] += graph3[i][j]\n",
    "\n",
    "    return max(graph4.values())\n",
    "\n",
    "solution(friends, gifts)"
   ]
  }
 ],
 "metadata": {
  "kernelspec": {
   "display_name": "BD",
   "language": "python",
   "name": "python3"
  },
  "language_info": {
   "codemirror_mode": {
    "name": "ipython",
    "version": 3
   },
   "file_extension": ".py",
   "mimetype": "text/x-python",
   "name": "python",
   "nbconvert_exporter": "python",
   "pygments_lexer": "ipython3",
   "version": "3.9.0"
  }
 },
 "nbformat": 4,
 "nbformat_minor": 2
}
