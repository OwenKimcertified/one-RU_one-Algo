{
 "cells": [
  {
   "cell_type": "markdown",
   "metadata": {},
   "source": [
    "### 다트 게임\n",
    "\n",
    "문자열이 주어지고 점수만큼의 문자열을 슬라이스 후 조건에 맞게 점수를 산정하는 문제.\n",
    "\n",
    "문자열의 길이가 짧게 제한되어 있어서(기회가 3번) 시간 복잡도 측면은 크게 고려하지 않아도 문제는 풀릴 것.\n",
    "\n",
    "점수를 산정하는 과정에서 중요한 부분은 마지막 option의 값을 처리할 때인데, \n",
    "\n",
    "인덱스를 늘려가는 기준을 포인터로 잡고 있어서 마지막 option에서 인덱스를 활용할 때\n",
    "\n",
    "out of index 오류가 발생할 수 있다.\n",
    "\n",
    "마지막 옵션 값을 계산할 때 만약, 특수 문자가 없어서 산정하지 말고 바로 리턴해야하는 경우에\n",
    "\n",
    "__n 의 길이 조건에 대한 식이 없으면 option 부분에서 index 오류가 발생할 것임.__ 처음부터 이 생각까지는 하지 못했음.\n",
    "\n",
    "__\"점수|보너스|[옵션]\"으로 이루어진 문자열 3세트.__ 라고 정의한 순서를 따라 차례대로 해결하면 되는 문제.\n",
    "\n",
    ".isdigit(), .isalnum() 은 문자열에 있는 숫자라도 숫자면 True를 리턴하고 alnum도 숫자, 영문이면 True를 리턴한다 ( 타입에 상관 없이 ) \n",
    "\n",
    "문자열을 끝까지 탐색해야 하기 때문에 while 문으로 포인터의 값이 길이보다 작을 때까지 반복했다.\n",
    "\n",
    "(포인터는 인덱스 값을 대체했기 때문에 길이보다 짧을 수 밖에 없음. option 산정 시에도 생각해야 하는 부분.)"
   ]
  },
  {
   "cell_type": "code",
   "execution_count": 1,
   "metadata": {},
   "outputs": [
    {
     "data": {
      "text/plain": [
       "9"
      ]
     },
     "execution_count": 1,
     "metadata": {},
     "output_type": "execute_result"
    }
   ],
   "source": [
    "dartResult = \"1D2S#10S\"\n",
    "\n",
    "def solution(dartResult):\n",
    "    n = 0\n",
    "    len_result = len(dartResult)\n",
    "    scores = []\n",
    "    \n",
    "    # index slice : score\n",
    "    while n < len_result:\n",
    "        if dartResult[n+1].isdigit():\n",
    "            number = int(dartResult[n:n+2])\n",
    "            n += 2\n",
    "        else:\n",
    "            number = int(dartResult[n])\n",
    "            n += 1\n",
    "        \n",
    "        # bonus \n",
    "        bonus = dartResult[n]\n",
    "        if bonus == \"S\":\n",
    "            score = number * 1\n",
    "        elif bonus == \"D\":\n",
    "            score = number ** 2\n",
    "        else:\n",
    "            score = number ** 3\n",
    "        n += 1\n",
    "        \n",
    "        # option\n",
    "        if n  < len_result and (dartResult[n] == \"*\" or dartResult[n] == '#'):\n",
    "            option = dartResult[n]\n",
    "            if option == \"*\":\n",
    "                score *= 2\n",
    "                if scores:\n",
    "                    scores[-1] *= 2\n",
    "            elif option == \"#\":\n",
    "                score *= (-1)\n",
    "            n += 1\n",
    "\n",
    "        scores.append(score)\n",
    "        \n",
    "    return sum(scores)\n",
    "\n",
    "\n",
    "solution(dartResult)"
   ]
  }
 ],
 "metadata": {
  "kernelspec": {
   "display_name": "BD",
   "language": "python",
   "name": "python3"
  },
  "language_info": {
   "codemirror_mode": {
    "name": "ipython",
    "version": 3
   },
   "file_extension": ".py",
   "mimetype": "text/x-python",
   "name": "python",
   "nbconvert_exporter": "python",
   "pygments_lexer": "ipython3",
   "version": "3.9.0"
  }
 },
 "nbformat": 4,
 "nbformat_minor": 2
}
