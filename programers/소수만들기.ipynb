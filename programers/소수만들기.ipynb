{
 "cells": [
  {
   "cell_type": "markdown",
   "metadata": {},
   "source": [
    "### 소수 찾기.\n",
    "\n",
    "1부터 주어진 n값까지 소수가 몇 개인지 반환하는 문제.\n",
    "\n",
    "소수 판별은 2 ~ 제곱근까지 나머지가 0이면 안된다.\n",
    "\n",
    "__1은 소수가 아니다.__"
   ]
  },
  {
   "cell_type": "code",
   "execution_count": 2,
   "metadata": {},
   "outputs": [
    {
     "data": {
      "text/plain": [
       "4"
      ]
     },
     "execution_count": 2,
     "metadata": {},
     "output_type": "execute_result"
    }
   ],
   "source": [
    "# n = 3 이면 1 ~ 3까지 소수가 몇 개인지 반환. \n",
    "# 만약 나머지가 0이면 소수가 아니니까, prime 을 탈출 후 해당 p값에 대해 더 이상 탐색하지 않는 쪽으로 불필요한 계산을 줄일 수 있다.\n",
    "\n",
    "def solution(n):\n",
    "    cnt = 0\n",
    "    for p in range(2, n+1):\n",
    "        prime = True        \n",
    "        for q in range(2, int(p**0.5) + 1):\n",
    "            if p % q == 0: \n",
    "                prime = False\n",
    "                break\n",
    "        if prime:\n",
    "            cnt += 1\n",
    "\n",
    "    return cnt"
   ]
  },
  {
   "cell_type": "markdown",
   "metadata": {},
   "source": [
    "### 소수 만들기.\n",
    "\n",
    "숫자 list가 주어졌을 때, 리스트 내 숫자 3개의 조합으로 만들어지는 소수의 개수를 반환하는 문제.\n",
    "\n",
    "중복된 숫자는 들어가지 않는다.\n",
    "\n",
    "```python\n",
    "from itertools import combinations\n",
    "\n",
    "를 쓰지 않을 경우, 반복문을 3 중첩 해야하기 때문에 보기 힘들어서 썻다.\n",
    "```\n",
    "\n",
    "먼저 숫자 조합 배열을 만들고, 그 배열의 합들만 리스트에 추가 후\n",
    "\n",
    "그 합이 소수면 카운팅을 늘리는 방향으로 코드 작성."
   ]
  },
  {
   "cell_type": "code",
   "execution_count": null,
   "metadata": {},
   "outputs": [],
   "source": [
    "from itertools import combinations\n",
    "\n",
    "def solution(nums):\n",
    "    combies = list(combinations(nums, 3))\n",
    "    sum_combies = [sum(values) for values in combies]\n",
    "\n",
    "    cnt = 0\n",
    "    for p in sum_combies:\n",
    "        prime = True\n",
    "        for q in range(2, int(p*0.5)+1):\n",
    "            if p % q == 0:  \n",
    "                prime = False\n",
    "                break\n",
    "        if prime:\n",
    "            cnt += 1\n",
    "\n",
    "    return cnt "
   ]
  }
 ],
 "metadata": {
  "kernelspec": {
   "display_name": "BD",
   "language": "python",
   "name": "python3"
  },
  "language_info": {
   "codemirror_mode": {
    "name": "ipython",
    "version": 3
   },
   "file_extension": ".py",
   "mimetype": "text/x-python",
   "name": "python",
   "nbconvert_exporter": "python",
   "pygments_lexer": "ipython3",
   "version": "3.9.0"
  }
 },
 "nbformat": 4,
 "nbformat_minor": 2
}
