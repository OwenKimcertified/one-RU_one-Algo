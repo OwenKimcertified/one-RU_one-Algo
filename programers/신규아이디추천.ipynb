{
 "cells": [
  {
   "cell_type": "markdown",
   "metadata": {},
   "source": [
    "### 신규 아이디 추천 \n",
    "\n",
    "이 문제는 그냥 하라는 대로 따라가면 풀렸다.\n",
    "\n",
    "뭔가 완성도 있게 코드를 좀 줄여보다가 뇌용량이 터졌는데 완성시킬 생각이다."
   ]
  },
  {
   "cell_type": "code",
   "execution_count": 1,
   "metadata": {},
   "outputs": [
    {
     "data": {
      "text/plain": [
       "'abcdefghijklmn'"
      ]
     },
     "execution_count": 1,
     "metadata": {},
     "output_type": "execute_result"
    }
   ],
   "source": [
    "# len 3 ~ 15\n",
    "# lower, num, \"-\", \"_\", \".\" only\n",
    "# \".\" : index 0, -1 x\n",
    "\n",
    "import re\n",
    "\n",
    "a = \"abcdefghijklmn.p\"\n",
    "\n",
    "def solution(new_id):\n",
    "    \n",
    "    # 1\n",
    "    new_id = new_id.lower()\n",
    "    # 2\n",
    "    new_id = re.sub(r'[^a-z0-9-_.]', '', new_id)\n",
    "    # 3\n",
    "    while \"..\" in new_id:\n",
    "        new_id = new_id.replace(\"..\", \".\")\n",
    "    # 4\n",
    "    new_id = new_id.lstrip(\".\").rstrip(\".\")\n",
    "    # 5\n",
    "    if not new_id:\n",
    "        new_id = \"a\"\n",
    "    # 6\n",
    "    if len(new_id) >= 16:\n",
    "        new_id = new_id[:15].rstrip(\".\")\n",
    "    # 7\n",
    "    if len(new_id) <= 2:\n",
    "        new_id += new_id[-1] * (3-len(new_id))\n",
    "    \n",
    "    return new_id\n",
    "            \n",
    "solution(a)\n",
    "        \n",
    "    \n",
    "    # 5 \n",
    "#     if not new_id:\n",
    "#         return \"aaa\"\n",
    "    \n",
    "#     else:\n",
    "#         if len(new_id) <= 2:\n",
    "#             last_char = new_id[-1]\n",
    "#             while len(new_id) == 3:\n",
    "#                 new_id += last_char\n",
    "#             return new_id\n",
    "        \n",
    "#         else:\n",
    "#             id_lower = new_id.lower()\n",
    "#             # 1,2,4\n",
    "#             fix1 = re.sub(r'[^a-z0-9-_.]', '', id_lower).rstrip('.').lstrip('.')\n",
    "#             # 3\n",
    "#             while \"..\" in fix1:\n",
    "#                 fix1 = fix1.replace(\"..\", \".\")\n",
    "#             # 6\n",
    "#             if len(fix1) >= 16:\n",
    "#                 fix1 = fix1[:15]\n",
    "#             return fix1"
   ]
  }
 ],
 "metadata": {
  "kernelspec": {
   "display_name": "BD",
   "language": "python",
   "name": "python3"
  },
  "language_info": {
   "codemirror_mode": {
    "name": "ipython",
    "version": 3
   },
   "file_extension": ".py",
   "mimetype": "text/x-python",
   "name": "python",
   "nbconvert_exporter": "python",
   "pygments_lexer": "ipython3",
   "version": "3.9.0"
  }
 },
 "nbformat": 4,
 "nbformat_minor": 2
}
