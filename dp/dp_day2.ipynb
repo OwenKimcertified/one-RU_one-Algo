{
 "cells": [
  {
   "cell_type": "markdown",
   "metadata": {},
   "source": [
    "### leetcode 118 Pascal's triangle\n",
    "__양 끝 값은 1, f(n) = f(n-1) + f(n-2) 피보나치 수열 구조.__\n",
    "\n",
    "### remind\n",
    "1. iterable, tabulation, bottom - up 의 구조를 생각.\n",
    "2. 이해한 내용을 코드로 어떻게 구현할 수 있을까 ? 고민.\n",
    "3. optimal solution 은 무엇일까, sub - problem 의 결과를 일반화 시킬 수 있는가"
   ]
  },
  {
   "cell_type": "code",
   "execution_count": 15,
   "metadata": {},
   "outputs": [
    {
     "data": {
      "text/plain": [
       "[[1], [1, 1], [1, 2, 1]]"
      ]
     },
     "execution_count": 15,
     "metadata": {},
     "output_type": "execute_result"
    }
   ],
   "source": [
    "# case 2. 삼각형이 3 층이라면 ? \n",
    "# 2 번 인덱스에 [1, 2, 1] 이 나와야 함.\n",
    "# prev 의 행의 정보가 필요\n",
    "# ㄴ 3th row 를 작성하기 위해 2th row 가 필요하고, 4th row 를 작성하기 위해 3th row 가 필요함.\n",
    "# ㄴ curr row 에 대한 정보를 층마다 초기화 하는 방법이 필요함.\n",
    "\n",
    "res = [[1]]\n",
    "n = 3\n",
    "\n",
    "for i in range(1, n):\n",
    "    curr, prev = [1], res[-1]\n",
    "    for j in range(1, i):\n",
    "        curr.append(prev[j-1] + prev[j])\n",
    "\n",
    "    curr.append(1)\n",
    "    res.append(curr)\n",
    "\n",
    "res"
   ]
  },
  {
   "cell_type": "markdown",
   "metadata": {},
   "source": [
    "# case 1. 삼각형이 2 층이라면 ?\n",
    "\n",
    "    n == 2 이고,\n",
    "\n",
    "    i == 1 이므로,\n",
    "\n",
    "    for j in range(1, 1):\n",
    "     \n",
    "이고,    \n",
    "\n",
    "for loop 의 body 코드는 실행되지 않음. \n",
    "\n",
    "    curr.append(prev[j-1] + prev[j]) 이 코드가 진행되지 않음.\n",
    "\n",
    "결과적으로 \n",
    "\n",
    "    curr.append(1)\n",
    "    res.append(curr)\n",
    "\n",
    "위의 두 코드만 실행됨.\n",
    "\n",
    "current row 에 1 만 추가한 값인 [1, 1] 이라는 리스트를 가지고\n",
    "\n",
    "res 라는 2 중 리스트에 넣으면 [[1], [1, 1]] 가 됨."
   ]
  },
  {
   "cell_type": "markdown",
   "metadata": {},
   "source": [
    "    information. \n",
    "\n",
    "l = []\n",
    "\n",
    "for i in range(1, 1):\n",
    "    l.append(1+1)\n",
    "\n",
    "print(l) = []\n",
    "\n",
    "1 부터 1 직전까지 => 반복문의 body 내용은 실행되지 않음."
   ]
  },
  {
   "cell_type": "markdown",
   "metadata": {},
   "source": [
    "# case 2. 삼각형이 3 층 이라면 ?\n",
    "\n",
    "n == 2 인 경우는 전과 같고,\n",
    "\n",
    "    n == 3 인 경우\n",
    "\n",
    "i == 2 이므로, \n",
    "\n",
    "    curr, prev = [1], res[-1] \n",
    "\n",
    "에서 res[-1] 은  [1] 에서 [1, 1] 로 업데이트 됐고,\n",
    "\n",
    "    for j in range(1, 2):\n",
    "        curr.append(prev[j-1] + prev[j])\n",
    "\n",
    "반복문이 총 1 번 진행됨. (1 부터 2 직전까지)\n",
    "\n",
    "    curr.append(prev[0] + prev[1])  @prev[0], prev[1] 은 각각 1\n",
    "\n",
    "    curr = [1, '2']\n",
    "    curr.append(1) \n",
    "    \n",
    "해주면 __curr = [1, '2', '1']__ 이고 3 층에 대한 정보를 입력했고 \n",
    "\n",
    "    res.append(curr) 을 하게되면 \n",
    "\n",
    "    res = [[1], [1, 1], [1, 2, 1]] "
   ]
  }
 ],
 "metadata": {
  "kernelspec": {
   "display_name": "newkaf",
   "language": "python",
   "name": "python3"
  },
  "language_info": {
   "codemirror_mode": {
    "name": "ipython",
    "version": 3
   },
   "file_extension": ".py",
   "mimetype": "text/x-python",
   "name": "python",
   "nbconvert_exporter": "python",
   "pygments_lexer": "ipython3",
   "version": "3.8.0"
  }
 },
 "nbformat": 4,
 "nbformat_minor": 2
}
