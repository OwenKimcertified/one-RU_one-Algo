{
 "cells": [
  {
   "cell_type": "markdown",
   "metadata": {},
   "source": [
    "# top - down approach\n",
    "- recursive, memoization (function call) \n",
    "\n",
    "- sub - problem 의 일부만 계산해도 optimal solution 을 구할 수 있을 때\n",
    "\n",
    "- depth 가 깊어지면 memory issue, overhead 발생\n",
    "\n",
    "# bottom - up approach => 선호  \n",
    "- iterable, tabluation (insert sub-problem at table)\n",
    "  \n",
    "  ㄴ 모든 sub - problem 을 계산해야 optimal solution 을 구할 수 있을 때\n",
    "\n",
    "### DP 설계 순서\n",
    "- 1. 문제에 대한 optimal solution 의 구조적 특징 분석\n",
    "- 2. 재귀적 형태로 optimal solution 의 value 를 정의\n",
    "- 3. BU(most case) 방식으로 optimal solution 의 value 를 구한다.\n",
    "- 4. 계산된 모든 정보를 취합해 optimal solution 를 구한다.\n",
    "\n",
    "### 생각해야할 것.\n",
    "- 1. optimization problem 이 optimal substructure 일 것.\n",
    "- 2. optimization problem 이 overlapping subproblems 을 가질 것.\n"
   ]
  },
  {
   "cell_type": "code",
   "execution_count": 6,
   "metadata": {},
   "outputs": [],
   "source": [
    "# 문제 1.\n",
    "# 정상까지 오르는데 n 번의 스텝이 필요.\n",
    "# 한 번에 1 칸 or 2 칸을 오를 수 있음.\n",
    "# 정상까지 가기위한 유니크한 방법이 몇 개 있는지 ?\n",
    "\n",
    "# example:\n",
    "# n = 2, 1+1 or 2 (2 case)\n",
    "# n = 3, 1+1+1 or 2+1 or 1+2 (3 case)\n",
    "\n",
    "# 1. 위 문제에 대한 optimization problem \n",
    "# => 최대 몇 개의 유니크한 방법이 있는가\n",
    "# 2. sub - problem 으로 나누기.\n",
    "# 3. sub - problem 의 optimal solution 을 활용해 위의 문제를 해결할 수 있는가?\n",
    "\n",
    "# idea\n",
    "# 정상을 오르기 전의 위치는 ? => n-1 or n-2 칸\n",
    "# n-1 칸까지 오기 위한 모든 경우의 수 + n-2 칸까지 오기 위한 모든 경우의 수 => n 칸에 오기위한 모든 경우의 수\n",
    "# f(n) = n 칸의 계단 정상에 오르는 경우의 수\n",
    "# f(n) = f(n-1) + f(n-2)\n",
    "\n",
    "# memoization -> duplication problem: 겹치는 sub - problem 들이 많음. TC => O(2^n)\n",
    "def m_fib(n):\n",
    "    if n == 0:\n",
    "        return 0\n",
    "    elif n == 1 or n == 2:\n",
    "        return 1\n",
    "    else:\n",
    "        return m_fib(n-1) + m_fib(n-2)\n",
    "\n",
    "# tabulation -> 최종 결과를 도출할 때까지 sub - problem 의 결과를 하나씩 기록. TC => O(n)\n",
    "def t_fib(n):\n",
    "    curr, next = 0, 1\n",
    "    for _ in range(n):\n",
    "        curr, next = next, curr + next\n",
    "    return curr"
   ]
  },
  {
   "cell_type": "code",
   "execution_count": 13,
   "metadata": {},
   "outputs": [
    {
     "name": "stdout",
     "output_type": "stream",
     "text": [
      "memoization(recursive) : 1.11903 sec\n"
     ]
    }
   ],
   "source": [
    "import time \n",
    "\n",
    "start = time.time()\n",
    "m_fib(33)\n",
    "end = time.time()\n",
    "print(f\"memoization(recursive) : {end - start:.5f} sec\")"
   ]
  },
  {
   "cell_type": "code",
   "execution_count": 15,
   "metadata": {},
   "outputs": [
    {
     "name": "stdout",
     "output_type": "stream",
     "text": [
      "iterable(tabluation) : 0.00000 sec\n"
     ]
    }
   ],
   "source": [
    "import time \n",
    "\n",
    "start = time.time()\n",
    "t_fib(33)\n",
    "end = time.time()\n",
    "print(f\"iterable(tabluation) : {end - start:.5f} sec\")"
   ]
  },
  {
   "cell_type": "code",
   "execution_count": 1,
   "metadata": {},
   "outputs": [
    {
     "data": {
      "text/plain": [
       "32"
      ]
     },
     "execution_count": 1,
     "metadata": {},
     "output_type": "execute_result"
    }
   ],
   "source": [
    "# 문제 2 ★\n",
    "# 정수 배열 nums 에서 가장 큰 합계를 가지는 subarray 를 찾고 그 합계를 반환\n",
    "# example\n",
    "# nums = [-2, 1, -3, [4, -1, 2], 1, -5, 4] 답 : 6\n",
    "# nums = [5, 4, -1, 7, 8] 답 : 19\n",
    "\n",
    "# optimization problem => 가장 큰 합계를 구해야 함.\n",
    "\n",
    "def mxarr(nums):\n",
    "    total_max = nums[0]\n",
    "    curr_max = nums[0]\n",
    "\n",
    "    for i in range(1, len(nums)):\n",
    "        curr_max = max(nums[i] + curr_max, nums[i])\n",
    "        total_max = max(total_max, curr_max)\n",
    "    \n",
    "    return total_max\n",
    "\n",
    "arr = [3, 5, 7, 8, 9, -9, 8, -7, -6, -2] # 예상 32\n",
    "mxarr(arr)\n",
    "# TC => 모든 조합 확인 O(n^2), Divide & conquer O(n*logn), DP O(n)"
   ]
  }
 ],
 "metadata": {
  "kernelspec": {
   "display_name": "newkaf",
   "language": "python",
   "name": "python3"
  },
  "language_info": {
   "codemirror_mode": {
    "name": "ipython",
    "version": 3
   },
   "file_extension": ".py",
   "mimetype": "text/x-python",
   "name": "python",
   "nbconvert_exporter": "python",
   "pygments_lexer": "ipython3",
   "version": "3.8.0"
  }
 },
 "nbformat": 4,
 "nbformat_minor": 2
}
