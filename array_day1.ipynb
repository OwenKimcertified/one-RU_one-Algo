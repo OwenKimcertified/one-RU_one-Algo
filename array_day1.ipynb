{
 "cells": [
  {
   "cell_type": "markdown",
   "metadata": {},
   "source": [
    "### leetcode 27 Remove Element\n",
    "\n",
    "`리스트 안에 주어진 숫자가 있으면 지우고`\n",
    "\n",
    "`주어진 숫자와 같지 않은 원소의 수를 리턴하는 문제`"
   ]
  },
  {
   "cell_type": "code",
   "execution_count": 31,
   "metadata": {},
   "outputs": [],
   "source": [
    "nums = [0,1,2,2,3,0,4,2]\n",
    "val = 2"
   ]
  },
  {
   "cell_type": "code",
   "execution_count": 28,
   "metadata": {},
   "outputs": [
    {
     "name": "stdout",
     "output_type": "stream",
     "text": [
      "k : 6\n",
      "array : [0, 1, 3, 0, 4, 2, '_', '_']\n"
     ]
    }
   ],
   "source": [
    "# 첫 번째 코드 \n",
    "\n",
    "for i in nums:\n",
    "    if i == val:\n",
    "        nums.remove(i)\n",
    "        nums.append('_')\n",
    "        \n",
    "print(f\"k : {nums.index('_')}\" + \"\\n\" +  f\"array : {nums}\")"
   ]
  },
  {
   "cell_type": "markdown",
   "metadata": {},
   "source": [
    "다음과 같이 주어진 숫자 '2' 가 제대로 삭제되지 않았음.\n",
    "\n",
    "이유는 반복문이 진행되는 동안 기준이 되는 리스트가 수정되고 있었기 때문.\n",
    "\n",
    "`반복문의 기준이 되는 리스트를 수정할 때는 인덱스를 기반으로 수정해야 한다.`"
   ]
  },
  {
   "cell_type": "code",
   "execution_count": 30,
   "metadata": {},
   "outputs": [
    {
     "name": "stdout",
     "output_type": "stream",
     "text": [
      "k : 5\n",
      "array : [0, 1, 3, 0, 4, '_', '_', '_']\n"
     ]
    }
   ],
   "source": [
    "# 로컬에서는 답이 나왔지만 리트코드에서 틀렸다고 나온 코드\n",
    "\n",
    "new_nums = list()\n",
    "cnt = 0\n",
    "\n",
    "for i in nums:\n",
    "    if i != val:\n",
    "        new_nums.append(i)\n",
    "    else:\n",
    "        cnt += 1\n",
    "    \n",
    "for _ in range(cnt):\n",
    "    new_nums.append('_')\n",
    "    \n",
    "print(f\"k : {new_nums.index('_')}\" + \"\\n\" +  f\"array : {new_nums}\")"
   ]
  },
  {
   "cell_type": "code",
   "execution_count": 32,
   "metadata": {},
   "outputs": [
    {
     "name": "stdout",
     "output_type": "stream",
     "text": [
      "k : 5\n",
      "array : [0, 1, 3, 0, 4, 0, 4, 2]\n"
     ]
    }
   ],
   "source": [
    "# 도저히 왜 accept 가 안되는 지 모르겠어서 본 솔루션 코드 \n",
    "\n",
    "# 목적 자체가 '주어진 숫자와 같지 않은 원소의 수를 리턴하는 문제'여서 리스트 내부의 값 자체는 크게 상관이 없는 거 같았지만\n",
    "\n",
    "# test case 의 리턴 값이 k를 보여주는 게 아니고 리스트를 보여주는 걸 보면 그게 또 아닌 거 같고 좀 이상하다.\n",
    "\n",
    "# 반복문의 기준이 되는 리스트를 수정할 때는 인덱스를 기반으로 수정해야 한다는 원칙을 지킨 코드였음.\n",
    "\n",
    "cnt = 0\n",
    "\n",
    "for j in range(len(nums)):\n",
    "    if nums[j] != val:\n",
    "        nums[cnt] = nums[j]\n",
    "        cnt += 1\n",
    "\n",
    "print(f\"k : {cnt}\" + \"\\n\" + f\"array : {nums}\")"
   ]
  }
 ],
 "metadata": {
  "kernelspec": {
   "display_name": "BD",
   "language": "python",
   "name": "python3"
  },
  "language_info": {
   "codemirror_mode": {
    "name": "ipython",
    "version": 3
   },
   "file_extension": ".py",
   "mimetype": "text/x-python",
   "name": "python",
   "nbconvert_exporter": "python",
   "pygments_lexer": "ipython3",
   "version": "3.9.0"
  }
 },
 "nbformat": 4,
 "nbformat_minor": 2
}
