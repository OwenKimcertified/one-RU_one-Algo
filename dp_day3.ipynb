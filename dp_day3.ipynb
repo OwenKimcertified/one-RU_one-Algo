{
 "cells": [
  {
   "cell_type": "markdown",
   "metadata": {},
   "source": [
    "### leetcode 121 \n",
    "\n",
    "### pascal's triangle, maximum subarray 와 같은 문제의 구조 \n",
    "\n",
    "    ㄴ bottom - up, tabulation\n",
    "\n",
    "### flag 를 갱신시켜보는 방향을 먼저 생각했음.\n",
    "\n",
    "1. tabulation 으로 bottom - up 방식으로. \n",
    "2. 설정한 flag 를 한 번씩은 써야겠다 생각.\n",
    "3. 최저값 기준 이전의 값들은 의미가 없음."
   ]
  },
  {
   "cell_type": "code",
   "execution_count": null,
   "metadata": {},
   "outputs": [],
   "source": [
    "prices = [7,1,5,3,6,4]\n",
    "\n",
    "class Solution:\n",
    "    def maxProfit(self, prices):\n",
    "        self.prices = prices\n",
    "        self.min = self.prices[0]\n",
    "        self.max = 0\n",
    "        \n",
    "        for i in self.prices:\n",
    "            if self.min > i:\n",
    "                self.min = i\n",
    "            else:\n",
    "                self.max = max(self.max, i - self.min)\n",
    "\n",
    "        return self.max\n",
    "\n",
    "a = Solution()\n",
    "a.maxProfit(prices)"
   ]
  }
 ],
 "metadata": {
  "kernelspec": {
   "display_name": "newkaf",
   "language": "python",
   "name": "python3"
  },
  "language_info": {
   "codemirror_mode": {
    "name": "ipython",
    "version": 3
   },
   "file_extension": ".py",
   "mimetype": "text/x-python",
   "name": "python",
   "nbconvert_exporter": "python",
   "pygments_lexer": "ipython3",
   "version": "3.8.0"
  }
 },
 "nbformat": 4,
 "nbformat_minor": 2
}
